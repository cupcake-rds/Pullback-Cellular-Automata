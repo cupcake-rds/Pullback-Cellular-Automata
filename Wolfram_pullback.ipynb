{
 "cells": [
  {
   "cell_type": "code",
   "execution_count": null,
   "metadata": {},
   "outputs": [],
   "source": [
    "import numpy as np\n",
    "import array\n",
    "import pandas as pd\n",
    "import matplotlib.pyplot as plt\n",
    "from scipy.linalg import eig \n",
    "import random\n",
    "import xlwt\n",
    "import itertools"
   ]
  },
  {
   "cell_type": "code",
   "execution_count": null,
   "metadata": {},
   "outputs": [],
   "source": [
    "def noise(init_conf, num_iter, k): #Create a uniform distr. from 0 to 1. If the value is less than some k, write 0. otherwise, 1\n",
    "    noise = np.zeros((init_conf.shape[0], num_iter))\n",
    "    for j in range(0, num_iter):\n",
    "        for i in range(0, init_conf.shape[0]):\n",
    "            distr = np.random.uniform(0,1)\n",
    "            if distr>k:\n",
    "                noise[i,j] = 0\n",
    "            else:\n",
    "                noise[i,j] = 1\n",
    "    return noise"
   ]
  },
  {
   "cell_type": "code",
   "execution_count": null,
   "metadata": {},
   "outputs": [],
   "source": [
    "def rand_init_conf(s,m):\n",
    "    init_conf = np.zeros(s)\n",
    "    for i in range(s):\n",
    "        distr = np.random.uniform(0,1)\n",
    "        if distr>m:\n",
    "            init_conf[i] = 0\n",
    "        else:\n",
    "            init_conf[i] = 1\n",
    "            \n",
    "    return init_conf"
   ]
  },
  {
   "cell_type": "code",
   "execution_count": null,
   "metadata": {},
   "outputs": [],
   "source": [
    "def CA(rul, init_conf, num_iter, decomp):\n",
    "    X = np.zeros((num_iter, init_conf.shape[0]))\n",
    "    X[0,:] = init_conf\n",
    "    Z = np.append(X,X, axis=1)\n",
    "    X = np.append(Z,X, axis=1)\n",
    "    for i in range(0, num_iter-1):\n",
    "        for j in range(0, init_conf.shape[0]):\n",
    "            for k in range(8):\n",
    "                if np.array_equal(rul[k,:], X[i,(j+init_conf.shape[0]-1):(j+init_conf.shape[0]+2)]):\n",
    "                    X[i+1,j+init_conf.shape[0]] = decomp[k]\n",
    "                      \n",
    "    Z = np.delete(X, slice(0, init_conf.shape[0]), 1)\n",
    "    X = np.delete(Z, slice(init_conf.shape[0], Z.shape[1]), 1)\n",
    "    return X"
   ]
  },
  {
   "cell_type": "code",
   "execution_count": null,
   "metadata": {},
   "outputs": [],
   "source": [
    "def PCA(rul, init_conf, num_iter, noise, decomp):\n",
    "    X = np.zeros((num_iter, init_conf.shape[0]))\n",
    "    X[0,:] = init_conf\n",
    "    for i in range(0, num_iter-1):\n",
    "        for j in range(0, init_conf.shape[0]):\n",
    "            if noise[j,num_iter-1-i] == 0:\n",
    "                if j == 0:\n",
    "                    for k in range(8):\n",
    "                        if np.array_equal(rul[k,:],([X[i,init_conf.shape[0]-1],X[i,j],X[i,j+1]])):\n",
    "                            X[i+1,j] = decomp[k]\n",
    "                elif j+1<init_conf.shape[0]:\n",
    "                    for k in range(8):\n",
    "                        if np.array_equal(rul[k,:],([X[i,j-1],X[i,j],X[i,j+1]])):\n",
    "                            X[i+1,j] = decomp[k]\n",
    "                elif j+1==init_conf.shape[0]:\n",
    "                    for k in range(8):\n",
    "                        if np.array_equal(rul[k,:],([X[i,j-1],X[i,j],X[i,0]])):\n",
    "                            X[i+1,j] = decomp[k]\n",
    "            if noise[j,num_iter-1-i] == 1:\n",
    "                if j == 0:\n",
    "                    for k in range(8):\n",
    "                        if np.array_equal(rul[k,:],([X[i,init_conf.shape[0]-1],X[i,j],X[i,j+1]])):\n",
    "                            X[i+1,j] = 1-decomp[k]\n",
    "                elif j+1<init_conf.shape[0]:\n",
    "                    for k in range(8):\n",
    "                        if np.array_equal(rul[k,:],([X[i,j-1],X[i,j],X[i,j+1]])):\n",
    "                            X[i+1,j] = 1-decomp[k]\n",
    "                elif j+1==init_conf.shape[0]:\n",
    "                    for k in range(8):\n",
    "                        if np.array_equal(rul[k,:],([X[i,j-1],X[i,j],X[i,0]])):\n",
    "                            X[i+1,j] = 1-decomp[k]\n",
    "    return X"
   ]
  },
  {
   "cell_type": "code",
   "execution_count": null,
   "metadata": {},
   "outputs": [],
   "source": [
    "rule = 170\n",
    "decomp = [int(x) for x in np.binary_repr(rule, width = 8)]\n",
    "table = np.zeros((8,3))\n",
    "for i in range(8):\n",
    "    table[i,:] = [int(y) for y in np.binary_repr(7-i, width = 3)]"
   ]
  },
  {
   "cell_type": "code",
   "execution_count": null,
   "metadata": {},
   "outputs": [],
   "source": [
    "s = 50\n",
    "m = 0.5\n",
    "init_conf = rand_init_conf(s,m)"
   ]
  },
  {
   "cell_type": "code",
   "execution_count": null,
   "metadata": {},
   "outputs": [],
   "source": [
    "k = 1/s\n",
    "num_iter = 100000 \n",
    "noise_past = noise(init_conf, num_iter, k)#total noise"
   ]
  },
  {
   "cell_type": "code",
   "execution_count": null,
   "metadata": {},
   "outputs": [],
   "source": [
    "nIterations_past = 10000 \n",
    "noise_past_new = noise_past[:,0:nIterations_past]# how much we want to look into the past"
   ]
  },
  {
   "cell_type": "code",
   "execution_count": null,
   "metadata": {},
   "outputs": [],
   "source": [
    "nIterations_past = 5000\n",
    "noise_past_new = noise_past[:,0:nIterations_past] #how much we want to look into the past\n",
    "q = 10 #number of slices\n",
    "pullback = np.zeros((q,init_conf.shape[0]))\n",
    "for i in range (0, q):\n",
    "    pullback_single = PCA2(table, init_conf, nIterations_past-q+i, noise_past_new,decomp)\n",
    "    pullback[i,:] = pullback_single[nIterations_past-q+i-1,:]\n"
   ]
  },
  {
   "cell_type": "code",
   "execution_count": null,
   "metadata": {},
   "outputs": [],
   "source": [
    "plt.figure(figsize = (10,10))\n",
    "plt.imshow(pullback, interpolation='nearest', cmap='Greys')\n",
    "plt.title('Pullback Object of Cellular Automata Rule {}'.format(rule))"
   ]
  },
  {
   "cell_type": "code",
   "execution_count": null,
   "metadata": {},
   "outputs": [],
   "source": [
    "start = 10000\n",
    "size = 50\n",
    "end = 10500\n",
    "q = 1\n",
    "pullback = np.zeros((q*(end-start)//size+q,init_conf.shape[0]))\n",
    "for j in range(start, end+size, size):\n",
    "    noise_past_new = noise_past[:,0:j]\n",
    "    for i in range (0, q):\n",
    "        pullback_single = PCA(table, init_conf, j-q+i, noise_past_new,decomp)\n",
    "        pullback[i+q*(j-start)//size,:] = pullback_single[j-q+i-1,:]"
   ]
  },
  {
   "cell_type": "code",
   "execution_count": null,
   "metadata": {},
   "outputs": [],
   "source": [
    "    plt.figure(figsize = (10,10))\n",
    "    plt.imshow(pullback, interpolation='nearest', cmap='Greys')\n",
    "    plt.title('Pullback Object of Cellular Automata Rule {}'.format(rule))\n",
    "    plt.yticks([])\n",
    "    plt.savefig('Thesisplt/big_rule_{}.png'.format(rule),bbox_inches='tight')"
   ]
  },
  {
   "cell_type": "code",
   "execution_count": null,
   "metadata": {},
   "outputs": [],
   "source": [
    "plt.figure(figsize = (10,10))\n",
    "plt.imshow(pullback, interpolation='nearest', cmap='Greys')\n",
    "plt.title('Pullback Object of Cellular Automata Rule {}'.format(rule))\n",
    "#frame1 = plt.gca()\n",
    "#frame1.axes.get_yaxis().set_visible(False)\n",
    "plt.yticks([])\n",
    "#plt.ylabel('5000 Iterations ', fontsize=12)\n",
    "#plt.savefig('ElementaryCA/500_iterations_rule_{}.png'.format(rule))"
   ]
  },
  {
   "cell_type": "code",
   "execution_count": null,
   "metadata": {},
   "outputs": [],
   "source": [
    "nIterations_past = 5000\n",
    "noise_past_new = noise_past[:,0:nIterations_past]\n",
    "q = 10"
   ]
  },
  {
   "cell_type": "code",
   "execution_count": null,
   "metadata": {},
   "outputs": [],
   "source": [
    "for l in range (104,256): #several rules program\n",
    "    rule = l\n",
    "    decomp = [int(x) for x in np.binary_repr(rule, width = 8)]\n",
    "    table = np.zeros((8,3))\n",
    "    for i in range(8):\n",
    "        table[i,:] = [int(y) for y in np.binary_repr(7-i, width = 3)]\n",
    "    pullback = np.zeros((q,init_conf.shape[0]))\n",
    "    for i in range (0, q):\n",
    "        pullback_single = PCA(table, init_conf, nIterations_past-q+i, noise_past_new,decomp)\n",
    "        pullback[i,:] = pullback_single[nIterations_past-q+i-1,:]\n",
    "    plt.figure(figsize = (10,10))\n",
    "    plt.imshow(pullback, interpolation='nearest', cmap='Greys')\n",
    "    plt.title('Pullback Object of Cellular Automata Rule {}'.format(rule))\n",
    "    plt.yticks([])\n",
    "    #plt.savefig('Thesisplt/rule_{}.png'.format(rule),bbox_inches='tight')"
   ]
  },
  {
   "cell_type": "code",
   "execution_count": null,
   "metadata": {},
   "outputs": [],
   "source": [
    "df = pd.DataFrame(noise_past)"
   ]
  },
  {
   "cell_type": "code",
   "execution_count": null,
   "metadata": {},
   "outputs": [],
   "source": [
    "df.to_excel(\"noise_10_09.xlsx\") #save noise"
   ]
  }
 ],
 "metadata": {
  "kernelspec": {
   "display_name": "Python 3",
   "language": "python",
   "name": "python3"
  },
  "language_info": {
   "codemirror_mode": {
    "name": "ipython",
    "version": 3
   },
   "file_extension": ".py",
   "mimetype": "text/x-python",
   "name": "python",
   "nbconvert_exporter": "python",
   "pygments_lexer": "ipython3",
   "version": "3.7.3"
  }
 },
 "nbformat": 4,
 "nbformat_minor": 4
}
